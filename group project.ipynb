{
 "cells": [
  {
   "cell_type": "code",
   "execution_count": 16,
   "id": "f2be64e3",
   "metadata": {},
   "outputs": [
    {
     "name": "stdout",
     "output_type": "stream",
     "text": [
      "Collecting midiutil\n",
      "  Downloading MIDIUtil-1.2.1.tar.gz (1.0 MB)\n",
      "Building wheels for collected packages: midiutil\n",
      "  Building wheel for midiutil (setup.py): started\n",
      "  Building wheel for midiutil (setup.py): finished with status 'done'\n",
      "  Created wheel for midiutil: filename=MIDIUtil-1.2.1-py3-none-any.whl size=55492 sha256=e1d7b65fd5e0c5803253ff12281229afab3fac0dad84b834b5c68d758247420d\n",
      "  Stored in directory: c:\\users\\camer\\appdata\\local\\pip\\cache\\wheels\\52\\c2\\30\\ce4f23db030a863977bc328651b914261581717167aabfcd47\n",
      "Successfully built midiutil\n",
      "Installing collected packages: midiutil\n",
      "Successfully installed midiutil-1.2.1\n",
      "Note: you may need to restart the kernel to use updated packages.\n"
     ]
    }
   ],
   "source": [
    " pip install midiutil"
   ]
  },
  {
   "cell_type": "code",
   "execution_count": 2,
   "id": "1feb13f7",
   "metadata": {},
   "outputs": [
    {
     "name": "stdout",
     "output_type": "stream",
     "text": [
      "Collecting ephem\n",
      "  Downloading ephem-4.1.4-cp39-cp39-win_amd64.whl (1.4 MB)\n",
      "Installing collected packages: ephem\n",
      "Successfully installed ephem-4.1.4\n",
      "Note: you may need to restart the kernel to use updated packages.\n"
     ]
    }
   ],
   "source": [
    "pip install ephem"
   ]
  },
  {
   "cell_type": "code",
   "execution_count": 3,
   "id": "63187e45",
   "metadata": {},
   "outputs": [],
   "source": [
    "import ephem\n",
    "import numpy as np\n",
    "from midiutil.MidiFile3 import MIDIFile"
   ]
  },
  {
   "cell_type": "code",
   "execution_count": 78,
   "id": "202625df",
   "metadata": {},
   "outputs": [],
   "source": [
    "class Planet:\n",
    "    def __init__(self, name):\n",
    "        self.name = name\n",
    "    \n",
    "    def get_distance_from_sun(self):\n",
    "\n",
    "        #sun = ephem.Sun()\n",
    "        #sun.compute()\n",
    "        planet = getattr(ephem, self.name)()\n",
    "        planet.compute()\n",
    "        distance_au = planet.sun_distance\n",
    "        return distance_au\n",
    "        \n",
    "class Earth(Planet):\n",
    "    def __init__(self, name):\n",
    "        self.name = name\n",
    "    \n",
    "    def get_distance_from_sun(self):\n",
    "        observer = ephem.Observer()\n",
    "        observer.date = ephem.now()\n",
    "        observer.lat = '0'\n",
    "        observer.lon = '0'\n",
    "        \n",
    "        sun = ephem.Sun()\n",
    "        sun.compute(observer)\n",
    "        \n",
    "        distance_au = ephem.separation(sun, observer)\n",
    "        \n",
    "        return distance_au"
   ]
  },
  {
   "cell_type": "code",
   "execution_count": 79,
   "id": "7848e829",
   "metadata": {},
   "outputs": [],
   "source": [
    "Mercury = Planet(\"Mercury\")\n",
    "Venus = Planet(\"Venus\")\n",
    "Earth = Earth(\"Earth\")\n",
    "Mars = Planet(\"Mars\")\n",
    "Jupiter = Planet(\"Jupiter\")\n",
    "Saturn = Planet(\"Saturn\")\n",
    "Uranus = Planet(\"Uranus\")\n",
    "Neptune = Planet(\"Neptune\")\n",
    "\n",
    "Planets = [Mercury, Venus, Earth, Mars, Jupiter, Saturn, Uranus, Neptune]\n",
    "distances = []\n",
    "distances_dict = {}"
   ]
  },
  {
   "cell_type": "code",
   "execution_count": 82,
   "id": "1933651d",
   "metadata": {},
   "outputs": [
    {
     "name": "stdout",
     "output_type": "stream",
     "text": [
      "The distance between the Sun and Mercury is 0.32 AU.\n",
      "The distance between the Sun and Venus is 0.72 AU.\n",
      "The distance between the Sun and Earth is 0.29 AU.\n",
      "The distance between the Sun and Mars is 1.65 AU.\n",
      "The distance between the Sun and Jupiter is 4.95 AU.\n",
      "The distance between the Sun and Saturn is 9.81 AU.\n",
      "The distance between the Sun and Uranus is 19.66 AU.\n",
      "The distance between the Sun and Neptune is 29.91 AU.\n"
     ]
    }
   ],
   "source": [
    "for planet in Planets:\n",
    "    distance_au = planet.get_distance_from_sun()\n",
    "    distances.append(distance_au)\n",
    "    distances_dict[planet.name] = distance_au\n",
    "    print(f\"The distance between the Sun and {planet.name} is {distance_au:.2f} AU.\")"
   ]
  },
  {
   "cell_type": "code",
   "execution_count": 92,
   "id": "5ded165a",
   "metadata": {},
   "outputs": [],
   "source": [
    "T = 1000 # Tension\n",
    "mu = 0.001 # Linear density\n",
    "\n",
    "def frequency(distance, n=1):\n",
    "    return n * np.power(T / mu, 1/2) / (2 * distance)\n",
    "\n",
    "def freq_to_note(freq):\n",
    "    notes = ['A', 'A#', 'B', 'C', 'C#', 'D', 'D#', 'E', 'F', 'F#', 'G', 'G#']\n",
    "\n",
    "    note_number = 12 * np.log2(freq / 440) + 49  \n",
    "    note_number = round(note_number)\n",
    "        \n",
    "    note = (note_number - 1 ) % len(notes)\n",
    "    note = notes[note]\n",
    "    \n",
    "    octave = (note_number + 8 ) // len(notes)\n",
    "    \n",
    "    return note, octave\n",
    "\n",
    "def midi_pitch_number(freq):\n",
    "    m  =  12 * np.log2(freq/440) + 69\n",
    "    return m"
   ]
  },
  {
   "cell_type": "code",
   "execution_count": 93,
   "id": "23c36a8a",
   "metadata": {},
   "outputs": [
    {
     "data": {
      "text/plain": [
       "[(1574.0811090275208, 'G', 6, 91.06721343459654),\n",
       " (695.7260239070894, 'F', 5, 76.93218915051658),\n",
       " (1738.4405165996359, 'A', 6, 92.7866193003692),\n",
       " (302.7685797212594, 'D#', 4, 62.5285436571277),\n",
       " (100.95512901053333, 'G#', 2, 43.514528216298224),\n",
       " (50.96256620036261, 'G#', 1, 31.68007568565951),\n",
       " (25.438186799457398, 'G#', 0, 19.650770666905714),\n",
       " (16.716660499141636, 'C', 0, 12.38226059045114)]"
      ]
     },
     "execution_count": 93,
     "metadata": {},
     "output_type": "execute_result"
    }
   ],
   "source": [
    "notes = []\n",
    "for planet in distances_dict:\n",
    "    freq = frequency(distances_dict[planet])\n",
    "    midi = midi_pitch_number(freq)\n",
    "    note, octave = freq_to_note(freq)\n",
    "    notes.append((freq, note, octave, midi))\n",
    "    \n",
    "notes"
   ]
  },
  {
   "cell_type": "code",
   "execution_count": 94,
   "id": "670f424e",
   "metadata": {},
   "outputs": [],
   "source": [
    "# create your MIDI object\n",
    "mf = MIDIFile(1)     # only 1 track\n",
    "track = 0   # the only track\n",
    "\n",
    "time = 0    # start at the beginning\n",
    "mf.addTrackName(track, time, \"Sample Track\")\n",
    "mf.addTempo(track, time, 120)\n",
    "\n",
    "# add some notes\n",
    "channel = 0\n",
    "volume = 100\n",
    "\n",
    "for _, _, _, midi in notes:\n",
    "    \n",
    "    pitch = round(midi) \n",
    "    time = 0 \n",
    "    duration = 5 \n",
    "    mf.addNote(track, channel, pitch, time, duration, volume)\n",
    "\n",
    "with open(\"chord of right now.mid\", 'wb') as outf:\n",
    "    mf.writeFile(outf)"
   ]
  },
  {
   "cell_type": "code",
   "execution_count": null,
   "id": "b781aaae",
   "metadata": {},
   "outputs": [],
   "source": []
  }
 ],
 "metadata": {
  "kernelspec": {
   "display_name": "Python 3 (ipykernel)",
   "language": "python",
   "name": "python3"
  },
  "language_info": {
   "codemirror_mode": {
    "name": "ipython",
    "version": 3
   },
   "file_extension": ".py",
   "mimetype": "text/x-python",
   "name": "python",
   "nbconvert_exporter": "python",
   "pygments_lexer": "ipython3",
   "version": "3.9.7"
  }
 },
 "nbformat": 4,
 "nbformat_minor": 5
}
